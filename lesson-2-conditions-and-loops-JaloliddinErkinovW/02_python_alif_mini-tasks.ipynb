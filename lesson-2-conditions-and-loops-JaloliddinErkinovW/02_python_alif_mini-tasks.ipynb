{
 "cells": [
  {
   "attachments": {
    "image-2.png": {
     "image/png": "[encoded data removed]"
    }
   },
   "cell_type": "markdown",
   "id": "72604ce5",
   "metadata": {
    "slideshow": {
     "slide_type": "slide"
    }
   },
   "source": [
    "![image-2.png](attachment:image-2.png)"
   ]
  },
  {
   "cell_type": "markdown",
   "id": "00dd6fb6",
   "metadata": {
    "slideshow": {
     "slide_type": "fragment"
    }
   },
   "source": [
    "# Модуль 1.1: Python для аналитиков\n",
    "\n",
    "### Урок №2: Условная конструкция, циклы и вложенные циклы\n",
    "\n",
    "### Задачи"
   ]
  },
  {
   "cell_type": "markdown",
   "id": "208e4874",
   "metadata": {
    "slideshow": {
     "slide_type": "slide"
    }
   },
   "source": [
    "#### Задача №1: \n",
    "Длина трассы — 43872м, и зрители хотят узнать имя победителя.\n",
    "\n",
    "Нам известны средние скорости трёх фаворитов – Пети, Васи и Толи. Помогите подвести итоги гонки."
   ]
  },
  {
   "cell_type": "markdown",
   "id": "c3251da6",
   "metadata": {
    "slideshow": {
     "slide_type": "fragment"
    }
   },
   "source": [
    "##### Формат ввода\n",
    "\n",
    "В первой строке записана средняя скорость Пети.\n",
    "\n",
    "Во второй — Васи.\n",
    "\n",
    "В третьей — Толи."
   ]
  },
  {
   "cell_type": "markdown",
   "id": "8cd84b11",
   "metadata": {
    "slideshow": {
     "slide_type": "fragment"
    }
   },
   "source": [
    "##### Формат вывода\n",
    "\n",
    "Имена победителей в порядке занятых мест"
   ]
  },
  {
   "cell_type": "code",
   "execution_count": 1,
   "id": "eb959ce8",
   "metadata": {
    "slideshow": {
     "slide_type": "slide"
    }
   },
   "outputs": [
    {
     "name": "stdout",
     "output_type": "stream",
     "text": [
      "8\n",
      "9\n",
      "10\n"
     ]
    }
   ],
   "source": [
    "speed_petya = int(input())\n",
    "speed_vasya = int(input())\n",
    "speed_tolya = int(input())"
   ]
  },
  {
   "cell_type": "code",
   "execution_count": 18,
   "id": "37734d69",
   "metadata": {
    "slideshow": {
     "slide_type": "slide"
    }
   },
   "outputs": [
    {
     "name": "stdout",
     "output_type": "stream",
     "text": [
      "1. Толя\n",
      "2. Вася\n",
      "3. Петя\n"
     ]
    }
   ],
   "source": [
    "if speed_tolya < speed_petya > speed_vasya:\n",
    "    print(\"1.\", ' Петя', sep='')\n",
    "    print(\"2.\", ' Толя', sep='')\n",
    "    print(\"3.\", ' Вася', sep='')\n",
    "elif speed_tolya < speed_vasya > speed_petya:\n",
    "    print(\"1.\", ' Вася', sep='')\n",
    "    print(\"2.\", ' Толя', sep='')\n",
    "    print(\"3.\", ' Петя', sep='')\n",
    "elif speed_vasya < speed_tolya > speed_petya:\n",
    "    print(\"1.\", ' Толя', sep='')\n",
    "    print(\"2.\", ' Вася', sep='')\n",
    "    print(\"3.\", ' Петя', sep='')\n",
    "else:\n",
    "    print(\"1.\", ' Петя', sep='')\n",
    "    print(\"2.\", ' Толя', sep='')\n",
    "    print(\"3.\", ' Вася', sep='')"
   ]
  },
  {
   "cell_type": "markdown",
   "id": "128b4361",
   "metadata": {
    "slideshow": {
     "slide_type": "slide"
    }
   },
   "source": [
    "#### Задача №2: Сила прокрастинации\n",
    "\n",
    "Вася любит полениться. Особенно ему нравится, когда в году появляется такой лишний денёк, которого обычно не бывает. Напишите программу, которая поможет Васе определить, удастся ли ему побездельничать в определённом году или нет."
   ]
  },
  {
   "cell_type": "markdown",
   "id": "9a3b6863",
   "metadata": {
    "slideshow": {
     "slide_type": "fragment"
    }
   },
   "source": [
    "##### Формат ввода\n",
    "\n",
    "Одно число — год.\n"
   ]
  },
  {
   "cell_type": "markdown",
   "id": "0aab39ec",
   "metadata": {
    "slideshow": {
     "slide_type": "fragment"
    }
   },
   "source": [
    "##### Формат вывода\n",
    "\n",
    "Одно слово «YES» (удастся) или «NO» (не удастся)."
   ]
  },
  {
   "cell_type": "code",
   "execution_count": 2,
   "id": "587bc35e",
   "metadata": {
    "slideshow": {
     "slide_type": "slide"
    }
   },
   "outputs": [
    {
     "name": "stdout",
     "output_type": "stream",
     "text": [
      "2100\n"
     ]
    }
   ],
   "source": [
    "# Чтение ввода\n",
    "year = int(input())"
   ]
  },
  {
   "cell_type": "code",
   "execution_count": 3,
   "id": "64cd97e4",
   "metadata": {
    "slideshow": {
     "slide_type": "fragment"
    }
   },
   "outputs": [
    {
     "name": "stdout",
     "output_type": "stream",
     "text": [
      "NO\n"
     ]
    }
   ],
   "source": [
    "# Проверка условий для определения високосного года\n",
    "if year % 4 == 0 and (year % 100 != 0 or year % 400 == 0):\n",
    "    print(\"YES\")\n",
    "else:\n",
    "    print(\"NO\")"
   ]
  },
  {
   "cell_type": "markdown",
   "id": "9aaeb0d0",
   "metadata": {
    "slideshow": {
     "slide_type": "slide"
    }
   },
   "source": [
    "#### Задача №3: НОД\n",
    "\n",
    "В одном из местных НИИ часто требуется находить наибольший общий делитель (НОД) двух чисел.\n",
    "Вам уже доверяют, как одному из лучших «автоматизаторов» в округе, так что руководство НИИ решило заказать ПО у вас."
   ]
  },
  {
   "cell_type": "markdown",
   "id": "e8e8ff0d",
   "metadata": {
    "slideshow": {
     "slide_type": "fragment"
    }
   },
   "source": [
    "##### Формат ввода\n",
    "\n",
    "Вводится два натуральных числа, каждое на своей строке.\n",
    "\n"
   ]
  },
  {
   "cell_type": "markdown",
   "id": "cffa1c63",
   "metadata": {
    "slideshow": {
     "slide_type": "fragment"
    }
   },
   "source": [
    "##### Формат вывода\n",
    "\n",
    "Требуется вывести одно натуральное число — НОД двух данных чисел."
   ]
  },
  {
   "attachments": {
    "gcd1_ru.png": {
     "image/png": "[encoded data removed]"
    }
   },
   "cell_type": "markdown",
   "id": "3e1566cc",
   "metadata": {
    "slideshow": {
     "slide_type": "slide"
    }
   },
   "source": [
    "![gcd1_ru.png](attachment:gcd1_ru.png)"
   ]
  },
  {
   "cell_type": "code",
   "execution_count": 7,
   "id": "55878853",
   "metadata": {
    "slideshow": {
     "slide_type": "slide"
    }
   },
   "outputs": [
    {
     "data": {
      "text/plain": [
       "2"
      ]
     },
     "execution_count": 7,
     "metadata": {},
     "output_type": "execute_result"
    }
   ],
   "source": [
    "a = 106\n",
    "b = 16\n",
    "while b != 0:\n",
    "    a, b = b, a % b\n",
    "a"
   ]
  },
  {
   "cell_type": "code",
   "execution_count": 30,
   "id": "fc969f14",
   "metadata": {
    "scrolled": true,
    "slideshow": {
     "slide_type": "fragment"
    }
   },
   "outputs": [
    {
     "name": "stdout",
     "output_type": "stream",
     "text": [
      "Наибольший общий делитель равен 2.\n"
     ]
    }
   ],
   "source": [
    "print(f\"Наибольший общий делитель равен {a}.\")"
   ]
  },
  {
   "cell_type": "markdown",
   "id": "c35e9e3d",
   "metadata": {
    "slideshow": {
     "slide_type": "slide"
    }
   },
   "source": [
    "#### Задача №4: Таблица умножения\n",
    "\n",
    "Местная фабрика канцелярских товаров заказала у вас программу, которая генерирует таблицы умножения.\n",
    "Давайте поддержим локального производителя!"
   ]
  },
  {
   "cell_type": "markdown",
   "id": "e8b0976a",
   "metadata": {
    "slideshow": {
     "slide_type": "fragment"
    }
   },
   "source": [
    "##### Формат ввода\n",
    "\n",
    "Вводится одно натуральное число — требуемый размер таблицы.\n",
    "\n",
    "\n"
   ]
  },
  {
   "cell_type": "markdown",
   "id": "3e1b0918",
   "metadata": {
    "slideshow": {
     "slide_type": "fragment"
    }
   },
   "source": [
    "##### Формат вывода\n",
    "\n",
    "Таблица умножения заданного размера.\n"
   ]
  },
  {
   "cell_type": "code",
   "execution_count": null,
   "id": "38e33aa3",
   "metadata": {
    "scrolled": true
   },
   "outputs": [],
   "source": [
    "n = int(input())\n",
    "\n",
    "for i in range(1, n+1):\n",
    "    for j in range(1, n+1):\n",
    "        print(f\"{i*j:3}\", end=\"***\")\n",
    "    print()"
   ]
  },
  {
   "cell_type": "code",
   "execution_count": null,
   "id": "9d0e4f6c",
   "metadata": {},
   "outputs": [],
   "source": []
  }
 ],
 "metadata": {
  "celltoolbar": "Slideshow",
  "kernelspec": {
   "display_name": "Python 3 (ipykernel)",
   "language": "python",
   "name": "python3"
  },
  "language_info": {
   "codemirror_mode": {
    "name": "ipython",
    "version": 3
   },
   "file_extension": ".py",
   "mimetype": "text/x-python",
   "name": "python",
   "nbconvert_exporter": "python",
   "pygments_lexer": "ipython3",
   "version": "3.9.13"
  }
 },
 "nbformat": 4,
 "nbformat_minor": 5
}
